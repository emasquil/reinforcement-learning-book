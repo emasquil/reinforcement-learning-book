{
 "cells": [
  {
   "cell_type": "code",
   "execution_count": 1,
   "metadata": {},
   "outputs": [],
   "source": [
    "import numpy as np\n",
    "import matplotlib.pyplot as plt"
   ]
  },
  {
   "cell_type": "code",
   "execution_count": 2,
   "metadata": {},
   "outputs": [],
   "source": [
    "STATES = np.arange(0,101)"
   ]
  },
  {
   "cell_type": "code",
   "execution_count": 3,
   "metadata": {},
   "outputs": [],
   "source": [
    "def possible_actions(state):\n",
    "    return np.arange(0, min(state, 100-state) +1)"
   ]
  },
  {
   "cell_type": "code",
   "execution_count": 4,
   "metadata": {},
   "outputs": [],
   "source": [
    "def rewards_from_actions(state, value_function, pwin=0.9):\n",
    "    actions = possible_actions(state)\n",
    "    rewards = []\n",
    "    for a in actions:\n",
    "        lose_reward = 0\n",
    "        lose_state = state - a\n",
    "        win_state = state + a\n",
    "        win_reward = 0\n",
    "        if win_state >= 100:\n",
    "            win_reward = 1\n",
    "            win_state = 100\n",
    "        rewards.append(pwin * (win_reward + value_function[win_state]) + (1-pwin)* (lose_reward + value_function[lose_state]))\n",
    "    return rewards"
   ]
  },
  {
   "cell_type": "code",
   "execution_count": 5,
   "metadata": {
    "scrolled": true
   },
   "outputs": [],
   "source": [
    "# Value iteration\n",
    "value_function = np.zeros([101])\n",
    "th = 1e-3\n",
    "pwin = 0.8\n",
    "while True:\n",
    "    delta = 0\n",
    "    for s in STATES[1:-1]:\n",
    "        old_v = value_function[s]\n",
    "        rewards = rewards_from_actions(s, value_function, pwin)\n",
    "        value_function[s] = max(rewards)\n",
    "        delta = max(delta, np.abs(value_function[s] - old_v))\n",
    "    if delta <= th:\n",
    "        break      "
   ]
  },
  {
   "cell_type": "code",
   "execution_count": 6,
   "metadata": {},
   "outputs": [],
   "source": [
    "# Define optimal policy\n",
    "policy = []\n",
    "for state in STATES[1:-1]:\n",
    "    actions = possible_actions(state)\n",
    "    rewards = []\n",
    "    for a in actions:\n",
    "        lose_reward = 0\n",
    "        lose_state = state - a\n",
    "        win_state = state + a\n",
    "        win_reward = 0\n",
    "        if win_state >= 100:\n",
    "            win_reward = 1\n",
    "            win_state = 100\n",
    "        rewards.append(pwin * (win_reward + value_function[win_state]) + (1-pwin)* (lose_reward + value_function[lose_state]))\n",
    "    policy.append(np.argmax(rewards))"
   ]
  },
  {
   "cell_type": "code",
   "execution_count": 7,
   "metadata": {},
   "outputs": [
    {
     "data": {
      "text/plain": [
       "Text(0, 0.5, 'Return')"
      ]
     },
     "execution_count": 7,
     "metadata": {},
     "output_type": "execute_result"
    },
    {
     "data": {
      "image/png": "[encoded data removed]",
      "text/plain": [
       "<Figure size 432x288 with 1 Axes>"
      ]
     },
     "metadata": {
      "needs_background": "light"
     },
     "output_type": "display_data"
    }
   ],
   "source": [
    "plt.plot(value_function[:-1])\n",
    "plt.title(\"Value function *\")\n",
    "plt.xlabel(\"Capital\")\n",
    "plt.ylabel(\"Return\")"
   ]
  },
  {
   "cell_type": "code",
   "execution_count": 8,
   "metadata": {},
   "outputs": [
    {
     "data": {
      "text/plain": [
       "Text(0, 0.5, 'Final policy (stakes)')"
      ]
     },
     "execution_count": 8,
     "metadata": {},
     "output_type": "execute_result"
    },
    {
     "data": {
      "image/png": "[encoded data removed]",
      "text/plain": [
       "<Figure size 432x288 with 1 Axes>"
      ]
     },
     "metadata": {
      "needs_background": "light"
     },
     "output_type": "display_data"
    }
   ],
   "source": [
    "# plotting the bars\n",
    "plt.bar(np.arange(0,99),policy, align='center', alpha=0.5)\n",
    "plt.title(\"Optimal policy\")\n",
    "plt.xlabel(\"Capital\")\n",
    "plt.ylabel(\"Final policy (stakes)\")"
   ]
  }
 ],
 "metadata": {
  "kernelspec": {
   "display_name": "Python 3",
   "language": "python",
   "name": "python3"
  },
  "language_info": {
   "codemirror_mode": {
    "name": "ipython",
    "version": 3
   },
   "file_extension": ".py",
   "mimetype": "text/x-python",
   "name": "python",
   "nbconvert_exporter": "python",
   "pygments_lexer": "ipython3",
   "version": "3.7.4"
  }
 },
 "nbformat": 4,
 "nbformat_minor": 2
}
