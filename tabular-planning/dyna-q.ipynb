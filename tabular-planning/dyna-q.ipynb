{
 "cells": [
  {
   "cell_type": "code",
   "execution_count": 1,
   "metadata": {},
   "outputs": [],
   "source": [
    "import numpy as np\n",
    "import matplotlib.pyplot as plt\n",
    "import random"
   ]
  },
  {
   "cell_type": "code",
   "execution_count": 2,
   "metadata": {},
   "outputs": [],
   "source": [
    "WIDTH = 8\n",
    "HEIGHT = 5\n",
    "GRID = np.zeros([HEIGHT + 1, WIDTH + 1])\n",
    "START = np.array([2,0])\n",
    "GOAL = np.array([0, 8])\n",
    "WALL = [\n",
    "    [1,2], [2,2], [3,2], [4, 5], [0,7], [1,7], [2,7],\n",
    "]\n",
    "GRID[START[0], START[1]] = 1\n",
    "GRID[GOAL[0], GOAL[1]] = 3\n",
    "for w in WALL:\n",
    "    GRID[w[0], w[1]] = 2"
   ]
  },
  {
   "cell_type": "code",
   "execution_count": 3,
   "metadata": {},
   "outputs": [
    {
     "data": {
      "text/plain": [
       "<matplotlib.image.AxesImage at 0x1110bbb90>"
      ]
     },
     "execution_count": 3,
     "metadata": {},
     "output_type": "execute_result"
    },
    {
     "data": {
      "image/png": "[encoded data removed]",
      "text/plain": [
       "<Figure size 432x288 with 1 Axes>"
      ]
     },
     "metadata": {
      "needs_background": "light"
     },
     "output_type": "display_data"
    }
   ],
   "source": [
    "plt.figure()\n",
    "plt.imshow(GRID)"
   ]
  },
  {
   "cell_type": "code",
   "execution_count": 4,
   "metadata": {},
   "outputs": [],
   "source": [
    "class Player:\n",
    "    def __init__(self,start=START, width=WIDTH, height=HEIGHT):\n",
    "        self.position = START\n",
    "        self.actions = [\n",
    "            np.array([0,1]), #RIGHT\n",
    "            np.array([0,-1]), #LEFT\n",
    "            np.array([-1,0]), #UP\n",
    "            np.array([1,0]) #DOWN\n",
    "        ]\n",
    "    \n",
    "    def move(self, action):\n",
    "        new_position = self.position + action\n",
    "        list_pos = list(new_position)\n",
    "        if np.any(list_pos in WALL) or (list_pos[0] < 0) or (list_pos[1] < 0) or (list_pos[0] > HEIGHT) or (list_pos[1] > WIDTH):\n",
    "            return\n",
    "        else:\n",
    "            self.position = new_position\n",
    "    \n",
    "    def check_finish_line(self):\n",
    "        return all(self.position == GOAL)\n",
    "    \n",
    "    def reset(self):\n",
    "        self.position = START"
   ]
  },
  {
   "cell_type": "code",
   "execution_count": 5,
   "metadata": {},
   "outputs": [],
   "source": [
    "player = Player()"
   ]
  },
  {
   "cell_type": "code",
   "execution_count": 6,
   "metadata": {},
   "outputs": [],
   "source": [
    "class DynaQ:\n",
    "    def __init__(self, player, grid, epsilon=0.1, alpha=0.1, n=50):\n",
    "        self.player = player\n",
    "        self.grid = grid\n",
    "        self.Q = np.zeros([grid.shape[0], grid.shape[1], len(self.player.actions)])\n",
    "        self.model_state = np.zeros([grid.shape[0], grid.shape[1], len(self.player.actions)], dtype=object)\n",
    "        self.model_reward = np.zeros([grid.shape[0], grid.shape[1], len(self.player.actions)])\n",
    "        self.epsilon = epsilon\n",
    "        self.alpha = alpha\n",
    "        self.n = n\n",
    "        self.visited_state = np.zeros([grid.shape[0], grid.shape[1]])\n",
    "        self.action_taken = np.zeros([grid.shape[0], grid.shape[1], len(self.player.actions)])\n",
    "        \n",
    "    def e_greedy(self, state):\n",
    "        if np.random.random() >= self.epsilon:\n",
    "            action = np.argmax(self.Q[state[0], state[1]])\n",
    "        else:\n",
    "            action = np.random.choice(len(self.player.actions))\n",
    "        return action        \n",
    "        \n",
    "    def generate_episode(self, verbose=False):\n",
    "        self.player.reset()\n",
    "        pos = []\n",
    "        not_done = True\n",
    "        while not_done:\n",
    "            # Load S\n",
    "            s1 = self.player.position\n",
    "            pos.append(s1)\n",
    "            if verbose:\n",
    "                print(\"Current position, \", (pos[-1]))\n",
    "            action1 = self.e_greedy(s1)\n",
    "            if verbose:\n",
    "                print(\"Action taken \", self.player.actions[action1])\n",
    "            # Take action A; observe resultant reward, R, and state S'\n",
    "            self.player.move(self.player.actions[action1])\n",
    "            s2 = self.player.position\n",
    "            if self.player.check_finish_line():\n",
    "                pos.append(self.player.position)\n",
    "                reward = 1\n",
    "                not_done = False\n",
    "                if verbose:\n",
    "                    print(f\"You reached the goal in {len(pos)} steps\")\n",
    "            else:\n",
    "                reward = 0\n",
    "            # Direct RL\n",
    "            self.Q[s1[0],s1[1], action1] += self.alpha * (reward + 0.95*np.max(self.Q[s2[0],s2[1]]) - self.Q[s1[0],s1[1], action1])\n",
    "            # Updating model\n",
    "            self.model_state[s1[0],s1[1],action1] = s2\n",
    "            self.model_reward[s1[0],s1[1], action1] = reward\n",
    "            self.action_taken[s1[0],s1[1],action1] = True\n",
    "            self.visited_state[s1[0],s1[1]] = True\n",
    "            for i in range(self.n):\n",
    "                s = random.sample(list(np.argwhere(self.visited_state == True)), 1)[0]\n",
    "                try:\n",
    "                    a = np.random.choice(np.argwhere(self.action_taken[s[0],s[1]]==1)[:,0])\n",
    "                    r = self.model_reward[s[0],s[1],a]\n",
    "                    next_s = self.model_state[s[0],s[1],a]\n",
    "                    self.Q[s[0],s[1],a] += self.alpha * (r + 0.95 * np.max(self.Q[next_s[0],next_s[1]]) - self.Q[s[0],s[1], a])\n",
    "                except ValueError:\n",
    "                    continue\n",
    "        return pos"
   ]
  },
  {
   "cell_type": "code",
   "execution_count": 7,
   "metadata": {},
   "outputs": [],
   "source": [
    "dyna_10 = DynaQ(player, GRID, n=10)\n",
    "dyna_50 = DynaQ(player, GRID, n=50)\n",
    "dyna_0 = DynaQ(player, GRID, n=0)"
   ]
  },
  {
   "cell_type": "code",
   "execution_count": 8,
   "metadata": {},
   "outputs": [],
   "source": [
    "for i in range(50):\n",
    "    dyna_10.generate_episode()\n",
    "    dyna_50.generate_episode()\n",
    "    dyna_0.generate_episode()"
   ]
  },
  {
   "cell_type": "code",
   "execution_count": 9,
   "metadata": {},
   "outputs": [
    {
     "name": "stdout",
     "output_type": "stream",
     "text": [
      "Current position,  [2 0]\n",
      "Action taken  [-1  0]\n",
      "Current position,  [1 0]\n",
      "Action taken  [-1  0]\n",
      "Current position,  [0 0]\n",
      "Action taken  [-1  0]\n",
      "Current position,  [0 0]\n",
      "Action taken  [0 1]\n",
      "Current position,  [0 1]\n",
      "Action taken  [1 0]\n",
      "Current position,  [1 1]\n",
      "Action taken  [-1  0]\n",
      "Current position,  [0 1]\n",
      "Action taken  [0 1]\n",
      "Current position,  [0 2]\n",
      "Action taken  [0 1]\n",
      "Current position,  [0 3]\n",
      "Action taken  [0 1]\n",
      "Current position,  [0 4]\n",
      "Action taken  [0 1]\n",
      "Current position,  [0 5]\n",
      "Action taken  [0 1]\n",
      "Current position,  [0 6]\n",
      "Action taken  [1 0]\n",
      "Current position,  [1 6]\n",
      "Action taken  [1 0]\n",
      "Current position,  [2 6]\n",
      "Action taken  [0 1]\n",
      "Current position,  [2 6]\n",
      "Action taken  [1 0]\n",
      "Current position,  [3 6]\n",
      "Action taken  [0 1]\n",
      "Current position,  [3 7]\n",
      "Action taken  [0 1]\n",
      "Current position,  [3 8]\n",
      "Action taken  [-1  0]\n",
      "Current position,  [2 8]\n",
      "Action taken  [-1  0]\n",
      "Current position,  [1 8]\n",
      "Action taken  [-1  0]\n",
      "You reached the goal in 21 steps\n"
     ]
    }
   ],
   "source": [
    "p10 = dyna_10.generate_episode(verbose=True)"
   ]
  },
  {
   "cell_type": "code",
   "execution_count": 10,
   "metadata": {},
   "outputs": [
    {
     "name": "stdout",
     "output_type": "stream",
     "text": [
      "Current position,  [2 0]\n",
      "Action taken  [0 1]\n",
      "Current position,  [2 1]\n",
      "Action taken  [1 0]\n",
      "Current position,  [3 1]\n",
      "Action taken  [1 0]\n",
      "Current position,  [4 1]\n",
      "Action taken  [0 1]\n",
      "Current position,  [4 2]\n",
      "Action taken  [0 1]\n",
      "Current position,  [4 3]\n",
      "Action taken  [-1  0]\n",
      "Current position,  [3 3]\n",
      "Action taken  [0 1]\n",
      "Current position,  [3 4]\n",
      "Action taken  [0 1]\n",
      "Current position,  [3 5]\n",
      "Action taken  [1 0]\n",
      "Current position,  [3 5]\n",
      "Action taken  [-1  0]\n",
      "Current position,  [2 5]\n",
      "Action taken  [0 1]\n",
      "Current position,  [2 6]\n",
      "Action taken  [1 0]\n",
      "Current position,  [3 6]\n",
      "Action taken  [0 1]\n",
      "Current position,  [3 7]\n",
      "Action taken  [0 1]\n",
      "Current position,  [3 8]\n",
      "Action taken  [-1  0]\n",
      "Current position,  [2 8]\n",
      "Action taken  [-1  0]\n",
      "Current position,  [1 8]\n",
      "Action taken  [-1  0]\n",
      "You reached the goal in 18 steps\n"
     ]
    }
   ],
   "source": [
    "p50 = dyna_50.generate_episode(verbose=True)"
   ]
  },
  {
   "cell_type": "code",
   "execution_count": 11,
   "metadata": {},
   "outputs": [
    {
     "name": "stdout",
     "output_type": "stream",
     "text": [
      "Current position,  [2 0]\n",
      "Action taken  [0 1]\n",
      "Current position,  [2 1]\n",
      "Action taken  [-1  0]\n",
      "Current position,  [1 1]\n",
      "Action taken  [-1  0]\n",
      "Current position,  [0 1]\n",
      "Action taken  [0 1]\n",
      "Current position,  [0 2]\n",
      "Action taken  [0 1]\n",
      "Current position,  [0 3]\n",
      "Action taken  [0 1]\n",
      "Current position,  [0 4]\n",
      "Action taken  [0 1]\n",
      "Current position,  [0 5]\n",
      "Action taken  [0 1]\n",
      "Current position,  [0 6]\n",
      "Action taken  [1 0]\n",
      "Current position,  [1 6]\n",
      "Action taken  [1 0]\n",
      "Current position,  [2 6]\n",
      "Action taken  [1 0]\n",
      "Current position,  [3 6]\n",
      "Action taken  [0 1]\n",
      "Current position,  [3 7]\n",
      "Action taken  [0 1]\n",
      "Current position,  [3 8]\n",
      "Action taken  [-1  0]\n",
      "Current position,  [2 8]\n",
      "Action taken  [-1  0]\n",
      "Current position,  [1 8]\n",
      "Action taken  [-1  0]\n",
      "You reached the goal in 17 steps\n"
     ]
    }
   ],
   "source": [
    "p0 = dyna_0.generate_episode(verbose=True)"
   ]
  },
  {
   "cell_type": "code",
   "execution_count": 12,
   "metadata": {},
   "outputs": [
    {
     "data": {
      "image/png": "[encoded data removed]",
      "text/plain": [
       "<Figure size 432x288 with 1 Axes>"
      ]
     },
     "metadata": {
      "needs_background": "light"
     },
     "output_type": "display_data"
    }
   ],
   "source": [
    "plt.figure()\n",
    "plt.imshow(GRID)\n",
    "plt.title(\"Dyna-Q with 50 planning steps after 50 episodes\")\n",
    "for i, s in enumerate(p50):\n",
    "    x = s[1]\n",
    "    y = s[0]\n",
    "    plt.plot(x, y, 'bo')\n",
    "    plt.text(x * (1 + 0.01), y * (1 + 0.01) , i, fontsize=12, color='white')"
   ]
  }
 ],
 "metadata": {
  "kernelspec": {
   "display_name": "Python 3",
   "language": "python",
   "name": "python3"
  },
  "language_info": {
   "codemirror_mode": {
    "name": "ipython",
    "version": 3
   },
   "file_extension": ".py",
   "mimetype": "text/x-python",
   "name": "python",
   "nbconvert_exporter": "python",
   "pygments_lexer": "ipython3",
   "version": "3.7.4"
  }
 },
 "nbformat": 4,
 "nbformat_minor": 2
}
