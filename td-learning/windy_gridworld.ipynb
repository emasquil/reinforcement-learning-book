{
 "cells": [
  {
   "cell_type": "code",
   "execution_count": 1,
   "metadata": {},
   "outputs": [],
   "source": [
    "import numpy as np\n",
    "import matplotlib.pyplot as plt"
   ]
  },
  {
   "cell_type": "code",
   "execution_count": 2,
   "metadata": {},
   "outputs": [],
   "source": [
    "# Gridworld definition\n",
    "START = np.array([3,0])\n",
    "END = np.array([3,7])\n",
    "TOP = 0\n",
    "BOTTOM = 6\n",
    "MAX_RIGHT = 9\n",
    "MAX_LEFT = 0\n",
    "WIND_2 = [6,7]\n",
    "WIND_1 = [3,4,5,8]"
   ]
  },
  {
   "cell_type": "code",
   "execution_count": 3,
   "metadata": {},
   "outputs": [],
   "source": [
    "# Regular actions\n",
    "ACTIONS = [\n",
    "    np.array([0,1]), #RIGHT\n",
    "    np.array([0,-1]), #LEFT\n",
    "    np.array([-1,0]), #UP\n",
    "    np.array([1,0]) #DOWN\n",
    "]"
   ]
  },
  {
   "cell_type": "code",
   "execution_count": 4,
   "metadata": {},
   "outputs": [],
   "source": [
    "class SarsaAgent:\n",
    "    def __init__(self, epsilon=0.1, alpha=0.5):\n",
    "        self.epsilon = epsilon\n",
    "        self.Q = np.zeros([BOTTOM + 1, MAX_RIGHT + 1, len(ACTIONS)])\n",
    "        self.alpha = alpha\n",
    "        \n",
    "    def reset(self):\n",
    "        self.position = START\n",
    "        self.r = 0\n",
    "        \n",
    "    def e_greedy(self, state):\n",
    "        if np.random.random() >= self.epsilon:\n",
    "            action = np.argmax(self.Q[state[0], state[1]])\n",
    "        else:\n",
    "            action = np.random.choice(len(ACTIONS))\n",
    "        return action\n",
    "    \n",
    "    def move(self, action):\n",
    "        new_position = self.position + action\n",
    "        if self.position[1] in WIND_2:\n",
    "            new_position[0] -= 2\n",
    "        elif self.position[1] in WIND_1:\n",
    "            new_position[0] -= 1\n",
    "        new_position[0] = max(min(BOTTOM, new_position[0]), TOP)\n",
    "        new_position[1] = max(min(MAX_RIGHT, new_position[1]), MAX_LEFT)\n",
    "        self.position = new_position\n",
    "        \n",
    "    \n",
    "    def generate_episode(self, verbose=False):\n",
    "        self.reset()\n",
    "        not_done = True\n",
    "        # Intiialize S\n",
    "        s1 = self.position\n",
    "        # Choose A\n",
    "        action1 = self.e_greedy(s1)\n",
    "        pos = []\n",
    "        while not_done:\n",
    "            if verbose:\n",
    "                print(\"Position\", self.position)\n",
    "                print(\"Action taken \", ACTIONS[action1])\n",
    "                pos.append(self.position)\n",
    "            # Take action A\n",
    "            self.move(ACTIONS[action1])\n",
    "            if np.any(self.position != END):\n",
    "                # observe R, S'\n",
    "                s2 = self.position\n",
    "                reward = -1\n",
    "                self.r += reward\n",
    "                action2 = self.e_greedy(s2)\n",
    "                self.Q[s1[0], s1[1], action1] += self.alpha * (reward + self.Q[s2[0], s2[1], action2] - self.Q[s1[0], s1[1], action1])\n",
    "                s1 = s2\n",
    "                action1 = action2\n",
    "            else:\n",
    "                not_done = False\n",
    "                return pos"
   ]
  },
  {
   "cell_type": "code",
   "execution_count": 5,
   "metadata": {},
   "outputs": [],
   "source": [
    "class QAgent:\n",
    "    def __init__(self, epsilon=0.1, alpha=0.5):\n",
    "        self.epsilon = epsilon\n",
    "        self.Q = np.zeros([BOTTOM + 1, MAX_RIGHT + 1, len(ACTIONS)])\n",
    "        self.alpha = alpha\n",
    "        \n",
    "    def reset(self):\n",
    "        self.position = START\n",
    "        self.r = 0\n",
    "        \n",
    "    def e_greedy(self, state):\n",
    "        if np.random.random() >= self.epsilon:\n",
    "            action = np.argmax(self.Q[state[0], state[1]])\n",
    "        else:\n",
    "            action = np.random.choice(len(ACTIONS))\n",
    "        return action\n",
    "    \n",
    "    def move(self, action):\n",
    "        new_position = self.position + action\n",
    "        if self.position[1] in WIND_2:\n",
    "            new_position[0] -= 2\n",
    "        elif self.position[1] in WIND_1:\n",
    "            new_position[0] -= 1\n",
    "        new_position[0] = max(min(BOTTOM, new_position[0]), TOP)\n",
    "        new_position[1] = max(min(MAX_RIGHT, new_position[1]), MAX_LEFT)\n",
    "        self.position = new_position\n",
    "        \n",
    "    \n",
    "    def generate_episode(self, verbose=False, greedy=False):\n",
    "        self.reset()\n",
    "        not_done = True\n",
    "        # Intiialize S\n",
    "        s1 = self.position\n",
    "        pos = []\n",
    "        pos.append(s1)\n",
    "        while not_done:\n",
    "            if greedy:\n",
    "                action = np.argmax(self.Q[s1[0], s1[1]])\n",
    "                self.move(ACTIONS[action])\n",
    "                if np.any(self.position != END):\n",
    "                    s1 = self.position\n",
    "                    reward = -1\n",
    "                    self.r += reward\n",
    "                else:\n",
    "                    not_done = False\n",
    "                    return pos\n",
    "            else: # during training\n",
    "                # Choose A\n",
    "                action1 = self.e_greedy(s1)\n",
    "                # Take action A\n",
    "                self.move(ACTIONS[action1])\n",
    "                if np.any(self.position != END):\n",
    "                    # observe R, S'\n",
    "                    s2 = self.position\n",
    "                    reward = -1\n",
    "                    self.r += reward\n",
    "                    self.Q[s1[0], s1[1], action1] += self.alpha * (reward + np.max(self.Q[s2[0],s2[1]]) - self.Q[s1[0], s1[1], action1])\n",
    "                    s1 = s2\n",
    "                else:\n",
    "                    not_done = False\n",
    "                    return pos\n",
    "            if verbose:\n",
    "                print(\"Position\", self.position)\n",
    "                print(\"Action taken \", ACTIONS[action])\n",
    "                pos.append(self.position)\n",
    "            "
   ]
  },
  {
   "cell_type": "code",
   "execution_count": 6,
   "metadata": {},
   "outputs": [],
   "source": [
    "sarsa = SarsaAgent()"
   ]
  },
  {
   "cell_type": "code",
   "execution_count": 7,
   "metadata": {},
   "outputs": [],
   "source": [
    "q = QAgent()"
   ]
  },
  {
   "cell_type": "code",
   "execution_count": 8,
   "metadata": {
    "scrolled": true
   },
   "outputs": [],
   "source": [
    "for i in range(10000):\n",
    "    sarsa.generate_episode(verbose=False)\n",
    "    q.generate_episode(verbose=False)"
   ]
  },
  {
   "cell_type": "code",
   "execution_count": 9,
   "metadata": {},
   "outputs": [
    {
     "name": "stdout",
     "output_type": "stream",
     "text": [
      "Position [3 0]\n",
      "Action taken  [ 0 -1]\n",
      "Position [3 0]\n",
      "Action taken  [-1  0]\n",
      "Position [2 0]\n",
      "Action taken  [0 1]\n",
      "Position [2 1]\n",
      "Action taken  [0 1]\n",
      "Position [2 2]\n",
      "Action taken  [0 1]\n",
      "Position [2 3]\n",
      "Action taken  [0 1]\n",
      "Position [1 4]\n",
      "Action taken  [0 1]\n",
      "Position [0 5]\n",
      "Action taken  [0 1]\n",
      "Position [0 6]\n",
      "Action taken  [ 0 -1]\n",
      "Position [0 5]\n",
      "Action taken  [-1  0]\n",
      "Position [0 5]\n",
      "Action taken  [0 1]\n",
      "Position [0 6]\n",
      "Action taken  [0 1]\n",
      "Position [0 7]\n",
      "Action taken  [1 0]\n",
      "Position [0 7]\n",
      "Action taken  [0 1]\n",
      "Position [0 8]\n",
      "Action taken  [0 1]\n",
      "Position [0 9]\n",
      "Action taken  [1 0]\n",
      "Position [1 9]\n",
      "Action taken  [1 0]\n",
      "Position [2 9]\n",
      "Action taken  [1 0]\n",
      "Position [3 9]\n",
      "Action taken  [1 0]\n",
      "Position [4 9]\n",
      "Action taken  [ 0 -1]\n",
      "Position [4 8]\n",
      "Action taken  [ 0 -1]\n"
     ]
    }
   ],
   "source": [
    "sarsa_pos = sarsa.generate_episode(True)"
   ]
  },
  {
   "cell_type": "code",
   "execution_count": 10,
   "metadata": {},
   "outputs": [
    {
     "name": "stdout",
     "output_type": "stream",
     "text": [
      "Position [3 1]\n",
      "Action taken  [0 1]\n",
      "Position [3 2]\n",
      "Action taken  [0 1]\n",
      "Position [3 3]\n",
      "Action taken  [0 1]\n",
      "Position [2 4]\n",
      "Action taken  [0 1]\n",
      "Position [1 5]\n",
      "Action taken  [0 1]\n",
      "Position [0 6]\n",
      "Action taken  [0 1]\n",
      "Position [0 7]\n",
      "Action taken  [0 1]\n",
      "Position [0 8]\n",
      "Action taken  [0 1]\n",
      "Position [0 9]\n",
      "Action taken  [0 1]\n",
      "Position [1 9]\n",
      "Action taken  [1 0]\n",
      "Position [2 9]\n",
      "Action taken  [1 0]\n",
      "Position [3 9]\n",
      "Action taken  [1 0]\n",
      "Position [4 9]\n",
      "Action taken  [1 0]\n",
      "Position [4 8]\n",
      "Action taken  [ 0 -1]\n"
     ]
    }
   ],
   "source": [
    "q_pos = q.generate_episode(verbose=True, greedy=True)"
   ]
  },
  {
   "cell_type": "code",
   "execution_count": 11,
   "metadata": {},
   "outputs": [
    {
     "data": {
      "image/png": "[encoded data removed]",
      "text/plain": [
       "<Figure size 432x288 with 1 Axes>"
      ]
     },
     "metadata": {
      "needs_background": "light"
     },
     "output_type": "display_data"
    }
   ],
   "source": [
    "plt.figure()\n",
    "plt.ylim((-1,6))\n",
    "plt.gca().invert_yaxis()\n",
    "plt.title(\"Sarsa\")\n",
    "plt.grid()\n",
    "plt.plot(7,3, 'rx')\n",
    "plt.text(7 * (1 + 0.01), 3 * (1 + 0.01) , \"G\", fontsize=12)\n",
    "for i, s in enumerate(sarsa_pos):\n",
    "    x = s[1]\n",
    "    y = s[0]\n",
    "    plt.plot(x, y, 'bo')\n",
    "    plt.text(x * (1 + 0.01), y * (1 + 0.01) , i, fontsize=12)"
   ]
  },
  {
   "cell_type": "code",
   "execution_count": 12,
   "metadata": {},
   "outputs": [
    {
     "data": {
      "image/png": "[encoded data removed]",
      "text/plain": [
       "<Figure size 432x288 with 1 Axes>"
      ]
     },
     "metadata": {
      "needs_background": "light"
     },
     "output_type": "display_data"
    }
   ],
   "source": [
    "plt.figure()\n",
    "plt.ylim((-1,6))\n",
    "plt.gca().invert_yaxis()\n",
    "plt.title(\"Q learning\")\n",
    "plt.grid()\n",
    "plt.plot(7,3, 'rx')\n",
    "plt.text(7 * (1 + 0.01), 3 * (1 + 0.01) , \"G\", fontsize=12)\n",
    "for i, s in enumerate(q_pos):\n",
    "    x = s[1]\n",
    "    y = s[0]\n",
    "    plt.plot(x, y, 'bo')\n",
    "    plt.text(x * (1 + 0.01), y * (1 + 0.01) , i, fontsize=12)"
   ]
  }
 ],
 "metadata": {
  "kernelspec": {
   "display_name": "Python 3",
   "language": "python",
   "name": "python3"
  },
  "language_info": {
   "codemirror_mode": {
    "name": "ipython",
    "version": 3
   },
   "file_extension": ".py",
   "mimetype": "text/x-python",
   "name": "python",
   "nbconvert_exporter": "python",
   "pygments_lexer": "ipython3",
   "version": "3.7.4"
  }
 },
 "nbformat": 4,
 "nbformat_minor": 2
}
